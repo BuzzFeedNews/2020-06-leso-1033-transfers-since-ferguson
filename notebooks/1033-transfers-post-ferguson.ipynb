{
 "cells": [
  {
   "cell_type": "markdown",
   "metadata": {},
   "source": [
    "# Department of Defense 1033 Transfers Post Ferguson\n",
    "\n",
    "This notebook analyzes tranfers from the Defense Logistics Agency through the \"1033\" program after the protests in Ferguson, MO after the killing of Michael Brown in August 2014. The DLA provides [quarterly data](https://www.dla.mil/DispositionServices/Offers/Reutilization/LawEnforcement/PublicInformation/) of \"the accountable property held by participating agencies\"."
   ]
  },
  {
   "cell_type": "code",
   "execution_count": 1,
   "metadata": {},
   "outputs": [],
   "source": [
    "import pandas as pd\n",
    "import matplotlib as mpl\n",
    "%matplotlib inline"
   ]
  },
  {
   "cell_type": "markdown",
   "metadata": {},
   "source": [
    "## Load Data\n",
    "\n",
    "*Note:* BuzzFeed News transformed the data, which comes in an multi-tabbed Excel file, into a CSV for easier analysis. That CSV file is what is loaded below."
   ]
  },
  {
   "cell_type": "code",
   "execution_count": 2,
   "metadata": {},
   "outputs": [],
   "source": [
    "data = (\n",
    "    pd\n",
    "    .read_csv(\n",
    "        \"../outputs/dla-1033-transfers.csv\", \n",
    "        parse_dates = [\"Ship Date\"]\n",
    "    )\n",
    "    .assign(\n",
    "        federal_supply_class = lambda x: x[\"NSN\"].apply(lambda y: y[:4]),\n",
    "        year = lambda x: x[\"Ship Date\"].apply(lambda y: y.year)\n",
    "    )\n",
    ")"
   ]
  },
  {
   "cell_type": "code",
   "execution_count": 3,
   "metadata": {},
   "outputs": [
    {
     "data": {
      "text/html": [
       "<div>\n",
       "<style scoped>\n",
       "    .dataframe tbody tr th:only-of-type {\n",
       "        vertical-align: middle;\n",
       "    }\n",
       "\n",
       "    .dataframe tbody tr th {\n",
       "        vertical-align: top;\n",
       "    }\n",
       "\n",
       "    .dataframe thead th {\n",
       "        text-align: right;\n",
       "    }\n",
       "</style>\n",
       "<table border=\"1\" class=\"dataframe\">\n",
       "  <thead>\n",
       "    <tr style=\"text-align: right;\">\n",
       "      <th></th>\n",
       "      <th>State</th>\n",
       "      <th>Station Name (LEA)</th>\n",
       "      <th>NSN</th>\n",
       "      <th>Item Name</th>\n",
       "      <th>Quantity</th>\n",
       "      <th>UI</th>\n",
       "      <th>Acquisition Value</th>\n",
       "      <th>DEMIL Code</th>\n",
       "      <th>DEMIL IC</th>\n",
       "      <th>Ship Date</th>\n",
       "      <th>Station Type</th>\n",
       "      <th>federal_supply_class</th>\n",
       "      <th>year</th>\n",
       "    </tr>\n",
       "  </thead>\n",
       "  <tbody>\n",
       "    <tr>\n",
       "      <th>52753</th>\n",
       "      <td>KS</td>\n",
       "      <td>COFFEYVILLE POLICE DEPT</td>\n",
       "      <td>1385-DS-ROB-TEOD</td>\n",
       "      <td>EOD ROBOT</td>\n",
       "      <td>1</td>\n",
       "      <td>Each</td>\n",
       "      <td>2000.0</td>\n",
       "      <td>D</td>\n",
       "      <td>NaN</td>\n",
       "      <td>2015-07-14</td>\n",
       "      <td>State</td>\n",
       "      <td>1385</td>\n",
       "      <td>2015</td>\n",
       "    </tr>\n",
       "    <tr>\n",
       "      <th>34357</th>\n",
       "      <td>GA</td>\n",
       "      <td>COLUMBUS POLICE DEPARTMENT</td>\n",
       "      <td>2355-01-553-4634</td>\n",
       "      <td>MINE RESISTANT VEHICLE</td>\n",
       "      <td>1</td>\n",
       "      <td>Each</td>\n",
       "      <td>658000.0</td>\n",
       "      <td>C</td>\n",
       "      <td>1.0</td>\n",
       "      <td>2013-10-24</td>\n",
       "      <td>State</td>\n",
       "      <td>2355</td>\n",
       "      <td>2013</td>\n",
       "    </tr>\n",
       "    <tr>\n",
       "      <th>56865</th>\n",
       "      <td>KY</td>\n",
       "      <td>STATE POLICE</td>\n",
       "      <td>1005-00-856-6885</td>\n",
       "      <td>RIFLE,5.56 MILLIMETER</td>\n",
       "      <td>1</td>\n",
       "      <td>Each</td>\n",
       "      <td>120.0</td>\n",
       "      <td>D</td>\n",
       "      <td>1.0</td>\n",
       "      <td>2011-04-12</td>\n",
       "      <td>State</td>\n",
       "      <td>1005</td>\n",
       "      <td>2011</td>\n",
       "    </tr>\n",
       "    <tr>\n",
       "      <th>7347</th>\n",
       "      <td>AR</td>\n",
       "      <td>JEFFERSON COUNTY SHERIFF DEPT</td>\n",
       "      <td>2330-00-838-2320</td>\n",
       "      <td>MOTOR VEH/TRLR/CYCL</td>\n",
       "      <td>1</td>\n",
       "      <td>Each</td>\n",
       "      <td>4744.0</td>\n",
       "      <td>A</td>\n",
       "      <td>1.0</td>\n",
       "      <td>2019-12-04</td>\n",
       "      <td>State</td>\n",
       "      <td>2330</td>\n",
       "      <td>2019</td>\n",
       "    </tr>\n",
       "    <tr>\n",
       "      <th>77890</th>\n",
       "      <td>MO</td>\n",
       "      <td>LINN CREEK POLICE DEPT</td>\n",
       "      <td>1005-00-073-9421</td>\n",
       "      <td>RIFLE,5.56 MILLIMETER</td>\n",
       "      <td>1</td>\n",
       "      <td>Each</td>\n",
       "      <td>499.0</td>\n",
       "      <td>D</td>\n",
       "      <td>1.0</td>\n",
       "      <td>2013-05-24</td>\n",
       "      <td>State</td>\n",
       "      <td>1005</td>\n",
       "      <td>2013</td>\n",
       "    </tr>\n",
       "  </tbody>\n",
       "</table>\n",
       "</div>"
      ],
      "text/plain": [
       "      State             Station Name (LEA)               NSN  \\\n",
       "52753    KS        COFFEYVILLE POLICE DEPT  1385-DS-ROB-TEOD   \n",
       "34357    GA     COLUMBUS POLICE DEPARTMENT  2355-01-553-4634   \n",
       "56865    KY                   STATE POLICE  1005-00-856-6885   \n",
       "7347     AR  JEFFERSON COUNTY SHERIFF DEPT  2330-00-838-2320   \n",
       "77890    MO         LINN CREEK POLICE DEPT  1005-00-073-9421   \n",
       "\n",
       "                    Item Name  Quantity    UI  Acquisition Value DEMIL Code  \\\n",
       "52753               EOD ROBOT         1  Each             2000.0          D   \n",
       "34357  MINE RESISTANT VEHICLE         1  Each           658000.0          C   \n",
       "56865   RIFLE,5.56 MILLIMETER         1  Each              120.0          D   \n",
       "7347      MOTOR VEH/TRLR/CYCL         1  Each             4744.0          A   \n",
       "77890   RIFLE,5.56 MILLIMETER         1  Each              499.0          D   \n",
       "\n",
       "       DEMIL IC  Ship Date Station Type federal_supply_class  year  \n",
       "52753       NaN 2015-07-14        State                 1385  2015  \n",
       "34357       1.0 2013-10-24        State                 2355  2013  \n",
       "56865       1.0 2011-04-12        State                 1005  2011  \n",
       "7347        1.0 2019-12-04        State                 2330  2019  \n",
       "77890       1.0 2013-05-24        State                 1005  2013  "
      ]
     },
     "execution_count": 3,
     "metadata": {},
     "output_type": "execute_result"
    }
   ],
   "source": [
    "data.sample(5)"
   ]
  },
  {
   "cell_type": "markdown",
   "metadata": {},
   "source": [
    "The Ferguson, MO protests ended on August 25, 2014, so this analysis looks at all transfers after that date."
   ]
  },
  {
   "cell_type": "code",
   "execution_count": 4,
   "metadata": {},
   "outputs": [],
   "source": [
    "post_ferguson = data[\n",
    "    lambda x: x[\"Ship Date\"] > \"2014-08-25\"\n",
    "].copy()"
   ]
  },
  {
   "cell_type": "code",
   "execution_count": 5,
   "metadata": {},
   "outputs": [
    {
     "data": {
      "text/plain": [
       "'Since Ferguson there have been 47,429 total transfers of equipment that are still held by the police agency. They total $854,104,343.93.'"
      ]
     },
     "execution_count": 5,
     "metadata": {},
     "output_type": "execute_result"
    }
   ],
   "source": [
    "'''Since Ferguson there have been {:,} total transfers of equipment that are still held by the police agency. They total ${:,}.'''.format(\n",
    "    len(post_ferguson),\n",
    "    post_ferguson[\"Acquisition Value\"].sum()\n",
    ")"
   ]
  },
  {
   "cell_type": "markdown",
   "metadata": {},
   "source": [
    "## Analyze item transfers"
   ]
  },
  {
   "cell_type": "markdown",
   "metadata": {},
   "source": [
    "### MRAPs"
   ]
  },
  {
   "cell_type": "code",
   "execution_count": 6,
   "metadata": {},
   "outputs": [],
   "source": [
    "mraps = post_ferguson[\n",
    "    lambda x: x[\"Item Name\"] == \"MINE RESISTANT VEHICLE\"\n",
    "]"
   ]
  },
  {
   "cell_type": "code",
   "execution_count": 7,
   "metadata": {},
   "outputs": [
    {
     "data": {
      "text/plain": [
       "494"
      ]
     },
     "execution_count": 7,
     "metadata": {},
     "output_type": "execute_result"
    }
   ],
   "source": [
    "mraps[\"Quantity\"].sum()"
   ]
  },
  {
   "cell_type": "code",
   "execution_count": 8,
   "metadata": {},
   "outputs": [
    {
     "data": {
      "text/plain": [
       "year\n",
       "2014      6\n",
       "2016    204\n",
       "2017     56\n",
       "2018     36\n",
       "2019    153\n",
       "2020     39\n",
       "Name: Quantity, dtype: int64"
      ]
     },
     "execution_count": 8,
     "metadata": {},
     "output_type": "execute_result"
    }
   ],
   "source": [
    "mraps.groupby(\"year\")[\"Quantity\"].sum()"
   ]
  },
  {
   "cell_type": "code",
   "execution_count": 9,
   "metadata": {},
   "outputs": [
    {
     "data": {
      "image/png": "[encoded data removed]",
      "text/plain": [
       "<Figure size 432x288 with 1 Axes>"
      ]
     },
     "metadata": {
      "needs_background": "light"
     },
     "output_type": "display_data"
    }
   ],
   "source": [
    "mraps.groupby(\"year\")[\"Quantity\"].sum().plot(kind=\"bar\")\n",
    "pass"
   ]
  },
  {
   "cell_type": "code",
   "execution_count": 10,
   "metadata": {},
   "outputs": [
    {
     "data": {
      "text/plain": [
       "State\n",
       "TN    55\n",
       "TX    42\n",
       "NC    30\n",
       "FL    29\n",
       "AL    26\n",
       "MN    21\n",
       "MI    18\n",
       "WI    18\n",
       "MS    16\n",
       "GA    16\n",
       "Name: Quantity, dtype: int64"
      ]
     },
     "execution_count": 10,
     "metadata": {},
     "output_type": "execute_result"
    }
   ],
   "source": [
    "mraps.groupby(\"State\")[\"Quantity\"].sum().sort_values(ascending=False).head(10)"
   ]
  },
  {
   "cell_type": "code",
   "execution_count": 11,
   "metadata": {},
   "outputs": [],
   "source": [
    "mraps.to_csv(\"../outputs/mraps.csv\", index=None)"
   ]
  },
  {
   "cell_type": "code",
   "execution_count": 12,
   "metadata": {},
   "outputs": [],
   "source": [
    "police_depts = [\n",
    "    \"JEFFERSON COUNTY SHERIFF'S OFFICE\", # Birmingham county\n",
    "    \"NEW YORK CITY POLICE DEPARTMENT\",\n",
    "    \"FULTON COUNTY SHERIFF DEPT\", # Atlanta county\n",
    "    \"RAMSEY COUNTY SHERIFF DEPT\", # St. Paul county\n",
    "    \"MEMPHIS POLICE DEPT\",\n",
    "    \"TRAVIS COUNTY SHERIFFS OFFICE\", # Austin county\n",
    "    \"SALT LAKE CITY POLICE DEPT\"\n",
    "]"
   ]
  },
  {
   "cell_type": "code",
   "execution_count": 13,
   "metadata": {},
   "outputs": [
    {
     "data": {
      "text/html": [
       "<div>\n",
       "<style scoped>\n",
       "    .dataframe tbody tr th:only-of-type {\n",
       "        vertical-align: middle;\n",
       "    }\n",
       "\n",
       "    .dataframe tbody tr th {\n",
       "        vertical-align: top;\n",
       "    }\n",
       "\n",
       "    .dataframe thead th {\n",
       "        text-align: right;\n",
       "    }\n",
       "</style>\n",
       "<table border=\"1\" class=\"dataframe\">\n",
       "  <thead>\n",
       "    <tr style=\"text-align: right;\">\n",
       "      <th></th>\n",
       "      <th>State</th>\n",
       "      <th>Station Name (LEA)</th>\n",
       "      <th>NSN</th>\n",
       "      <th>Item Name</th>\n",
       "      <th>Quantity</th>\n",
       "      <th>UI</th>\n",
       "      <th>Acquisition Value</th>\n",
       "      <th>DEMIL Code</th>\n",
       "      <th>DEMIL IC</th>\n",
       "      <th>Ship Date</th>\n",
       "      <th>Station Type</th>\n",
       "      <th>federal_supply_class</th>\n",
       "      <th>year</th>\n",
       "    </tr>\n",
       "  </thead>\n",
       "  <tbody>\n",
       "    <tr>\n",
       "      <th>3671</th>\n",
       "      <td>AL</td>\n",
       "      <td>JEFFERSON COUNTY SHERIFF'S OFFICE</td>\n",
       "      <td>2355-01-582-6466</td>\n",
       "      <td>MINE RESISTANT VEHICLE</td>\n",
       "      <td>1</td>\n",
       "      <td>Each</td>\n",
       "      <td>689000.0</td>\n",
       "      <td>C</td>\n",
       "      <td>1.0</td>\n",
       "      <td>2020-02-12</td>\n",
       "      <td>State</td>\n",
       "      <td>2355</td>\n",
       "      <td>2020</td>\n",
       "    </tr>\n",
       "    <tr>\n",
       "      <th>35371</th>\n",
       "      <td>GA</td>\n",
       "      <td>FULTON COUNTY SHERIFF DEPT</td>\n",
       "      <td>2355-01-553-4634</td>\n",
       "      <td>MINE RESISTANT VEHICLE</td>\n",
       "      <td>1</td>\n",
       "      <td>Each</td>\n",
       "      <td>658000.0</td>\n",
       "      <td>C</td>\n",
       "      <td>1.0</td>\n",
       "      <td>2016-03-31</td>\n",
       "      <td>State</td>\n",
       "      <td>2355</td>\n",
       "      <td>2016</td>\n",
       "    </tr>\n",
       "    <tr>\n",
       "      <th>73804</th>\n",
       "      <td>MN</td>\n",
       "      <td>RAMSEY COUNTY SHERIFF DEPT</td>\n",
       "      <td>2355-01-561-0281</td>\n",
       "      <td>MINE RESISTANT VEHICLE</td>\n",
       "      <td>1</td>\n",
       "      <td>Each</td>\n",
       "      <td>689000.0</td>\n",
       "      <td>C</td>\n",
       "      <td>1.0</td>\n",
       "      <td>2016-06-07</td>\n",
       "      <td>State</td>\n",
       "      <td>2355</td>\n",
       "      <td>2016</td>\n",
       "    </tr>\n",
       "    <tr>\n",
       "      <th>85726</th>\n",
       "      <td>NY</td>\n",
       "      <td>NEW YORK CITY POLICE DEPARTMENT</td>\n",
       "      <td>2355-01-602-3357</td>\n",
       "      <td>MINE RESISTANT VEHICLE</td>\n",
       "      <td>1</td>\n",
       "      <td>Each</td>\n",
       "      <td>865000.0</td>\n",
       "      <td>C</td>\n",
       "      <td>1.0</td>\n",
       "      <td>2016-03-09</td>\n",
       "      <td>State</td>\n",
       "      <td>2355</td>\n",
       "      <td>2016</td>\n",
       "    </tr>\n",
       "    <tr>\n",
       "      <th>85727</th>\n",
       "      <td>NY</td>\n",
       "      <td>NEW YORK CITY POLICE DEPARTMENT</td>\n",
       "      <td>2355-01-553-4634</td>\n",
       "      <td>MINE RESISTANT VEHICLE</td>\n",
       "      <td>1</td>\n",
       "      <td>Each</td>\n",
       "      <td>658000.0</td>\n",
       "      <td>C</td>\n",
       "      <td>1.0</td>\n",
       "      <td>2017-01-18</td>\n",
       "      <td>State</td>\n",
       "      <td>2355</td>\n",
       "      <td>2017</td>\n",
       "    </tr>\n",
       "    <tr>\n",
       "      <th>117567</th>\n",
       "      <td>TN</td>\n",
       "      <td>MEMPHIS POLICE DEPT</td>\n",
       "      <td>2355-01-596-1330</td>\n",
       "      <td>MINE RESISTANT VEHICLE</td>\n",
       "      <td>1</td>\n",
       "      <td>Each</td>\n",
       "      <td>575000.0</td>\n",
       "      <td>C</td>\n",
       "      <td>1.0</td>\n",
       "      <td>2019-08-01</td>\n",
       "      <td>State</td>\n",
       "      <td>2355</td>\n",
       "      <td>2019</td>\n",
       "    </tr>\n",
       "    <tr>\n",
       "      <th>117571</th>\n",
       "      <td>TN</td>\n",
       "      <td>MEMPHIS POLICE DEPT</td>\n",
       "      <td>2355-01-553-4634</td>\n",
       "      <td>MINE RESISTANT VEHICLE</td>\n",
       "      <td>1</td>\n",
       "      <td>Each</td>\n",
       "      <td>658000.0</td>\n",
       "      <td>C</td>\n",
       "      <td>1.0</td>\n",
       "      <td>2016-03-17</td>\n",
       "      <td>State</td>\n",
       "      <td>2355</td>\n",
       "      <td>2016</td>\n",
       "    </tr>\n",
       "    <tr>\n",
       "      <th>128833</th>\n",
       "      <td>TX</td>\n",
       "      <td>TRAVIS COUNTY SHERIFFS OFFICE</td>\n",
       "      <td>2355-01-623-0967</td>\n",
       "      <td>MINE RESISTANT VEHICLE</td>\n",
       "      <td>1</td>\n",
       "      <td>Each</td>\n",
       "      <td>767360.0</td>\n",
       "      <td>C</td>\n",
       "      <td>1.0</td>\n",
       "      <td>2019-08-27</td>\n",
       "      <td>State</td>\n",
       "      <td>2355</td>\n",
       "      <td>2019</td>\n",
       "    </tr>\n",
       "    <tr>\n",
       "      <th>129999</th>\n",
       "      <td>UT</td>\n",
       "      <td>SALT LAKE CITY POLICE DEPT</td>\n",
       "      <td>2355-01-553-4634</td>\n",
       "      <td>MINE RESISTANT VEHICLE</td>\n",
       "      <td>1</td>\n",
       "      <td>Each</td>\n",
       "      <td>658000.0</td>\n",
       "      <td>C</td>\n",
       "      <td>1.0</td>\n",
       "      <td>2017-01-24</td>\n",
       "      <td>State</td>\n",
       "      <td>2355</td>\n",
       "      <td>2017</td>\n",
       "    </tr>\n",
       "  </tbody>\n",
       "</table>\n",
       "</div>"
      ],
      "text/plain": [
       "       State                 Station Name (LEA)               NSN  \\\n",
       "3671      AL  JEFFERSON COUNTY SHERIFF'S OFFICE  2355-01-582-6466   \n",
       "35371     GA         FULTON COUNTY SHERIFF DEPT  2355-01-553-4634   \n",
       "73804     MN         RAMSEY COUNTY SHERIFF DEPT  2355-01-561-0281   \n",
       "85726     NY    NEW YORK CITY POLICE DEPARTMENT  2355-01-602-3357   \n",
       "85727     NY    NEW YORK CITY POLICE DEPARTMENT  2355-01-553-4634   \n",
       "117567    TN                MEMPHIS POLICE DEPT  2355-01-596-1330   \n",
       "117571    TN                MEMPHIS POLICE DEPT  2355-01-553-4634   \n",
       "128833    TX      TRAVIS COUNTY SHERIFFS OFFICE  2355-01-623-0967   \n",
       "129999    UT         SALT LAKE CITY POLICE DEPT  2355-01-553-4634   \n",
       "\n",
       "                     Item Name  Quantity    UI  Acquisition Value DEMIL Code  \\\n",
       "3671    MINE RESISTANT VEHICLE         1  Each           689000.0          C   \n",
       "35371   MINE RESISTANT VEHICLE         1  Each           658000.0          C   \n",
       "73804   MINE RESISTANT VEHICLE         1  Each           689000.0          C   \n",
       "85726   MINE RESISTANT VEHICLE         1  Each           865000.0          C   \n",
       "85727   MINE RESISTANT VEHICLE         1  Each           658000.0          C   \n",
       "117567  MINE RESISTANT VEHICLE         1  Each           575000.0          C   \n",
       "117571  MINE RESISTANT VEHICLE         1  Each           658000.0          C   \n",
       "128833  MINE RESISTANT VEHICLE         1  Each           767360.0          C   \n",
       "129999  MINE RESISTANT VEHICLE         1  Each           658000.0          C   \n",
       "\n",
       "        DEMIL IC  Ship Date Station Type federal_supply_class  year  \n",
       "3671         1.0 2020-02-12        State                 2355  2020  \n",
       "35371        1.0 2016-03-31        State                 2355  2016  \n",
       "73804        1.0 2016-06-07        State                 2355  2016  \n",
       "85726        1.0 2016-03-09        State                 2355  2016  \n",
       "85727        1.0 2017-01-18        State                 2355  2017  \n",
       "117567       1.0 2019-08-01        State                 2355  2019  \n",
       "117571       1.0 2016-03-17        State                 2355  2016  \n",
       "128833       1.0 2019-08-27        State                 2355  2019  \n",
       "129999       1.0 2017-01-24        State                 2355  2017  "
      ]
     },
     "execution_count": 13,
     "metadata": {},
     "output_type": "execute_result"
    }
   ],
   "source": [
    "mraps.loc[\n",
    "    lambda x: x[\"Station Name (LEA)\"].isin(police_depts) & \n",
    "    (x[\"State\"] != \"FL\") # two different Jefferson County received MRAPs, this gets rid of the erroneous one\n",
    "]"
   ]
  },
  {
   "cell_type": "markdown",
   "metadata": {},
   "source": [
    "### Body Armor"
   ]
  },
  {
   "cell_type": "code",
   "execution_count": 14,
   "metadata": {},
   "outputs": [],
   "source": [
    "body_armor = post_ferguson.loc[\n",
    "    lambda x: x[\"federal_supply_class\"].isin([\"8470\"]) # the federal supply class for Armor, Personal\n",
    "]"
   ]
  },
  {
   "cell_type": "code",
   "execution_count": 15,
   "metadata": {},
   "outputs": [
    {
     "data": {
      "text/plain": [
       "886"
      ]
     },
     "execution_count": 15,
     "metadata": {},
     "output_type": "execute_result"
    }
   ],
   "source": [
    "body_armor[\"Quantity\"].sum()"
   ]
  },
  {
   "cell_type": "code",
   "execution_count": 16,
   "metadata": {},
   "outputs": [
    {
     "data": {
      "text/plain": [
       "year\n",
       "2014     26\n",
       "2015     36\n",
       "2016     33\n",
       "2017     13\n",
       "2018     85\n",
       "2019    393\n",
       "2020    300\n",
       "Name: Quantity, dtype: int64"
      ]
     },
     "execution_count": 16,
     "metadata": {},
     "output_type": "execute_result"
    }
   ],
   "source": [
    "body_armor.groupby(\"year\")[\"Quantity\"].sum()"
   ]
  },
  {
   "cell_type": "code",
   "execution_count": 17,
   "metadata": {},
   "outputs": [
    {
     "data": {
      "image/png": "[encoded data removed]",
      "text/plain": [
       "<Figure size 432x288 with 1 Axes>"
      ]
     },
     "metadata": {
      "needs_background": "light"
     },
     "output_type": "display_data"
    }
   ],
   "source": [
    "body_armor.groupby(\"year\")[\"Quantity\"].sum().plot(kind=\"bar\")\n",
    "pass"
   ]
  },
  {
   "cell_type": "code",
   "execution_count": 18,
   "metadata": {},
   "outputs": [
    {
     "data": {
      "text/plain": [
       "Item Name\n",
       "SHIELD,PERSONAL PROTECTIVE                         303\n",
       "BAG,BODY ARMOR HELMET                              201\n",
       "CARRIER,SMALL ARMS PROTECTIVE BODY ARMOR            92\n",
       "VEST,REL,BA,S,GREEN                                 40\n",
       "BODY ARMOR,FRAGMENTATION PROTECTIVE                 38\n",
       "HELMET COVER,BALLIS                                 33\n",
       "HELMET,GROUND TROOPS'                               29\n",
       "VEST,SMALL ARMS PROTECTIVE BODY ARMOR               29\n",
       "VEST,REL,BA,XL,WDL                                  27\n",
       "HELMET,GROUND TROOPS-PARACHUTISTS                   14\n",
       "PAD,ADVANCED COMBAT HELMET NAPE,BALLASTIC           12\n",
       "PLATE CARRIER,REAR                                  12\n",
       "PLATE CARRIER,FRONT                                 10\n",
       "SUIT,EXPLOSIVE ORDNANCE DISPOSAL                    10\n",
       "VEST,REL,BA,L,GREEN                                 10\n",
       "POWER SUPPLY,EXPLOSIVE ORDNANCE DISPOSAL HELMET      6\n",
       "REPAIR KIT,HELMET                                    6\n",
       "HELMET,GROUND TROOPS                                 4\n",
       "HELMET,EXPLOSIVE ORDNANCE DISPOSAL                   3\n",
       "VISOR,HELMET,EXPLOSIVE ORDNANCE DISPOSAL             3\n",
       "VEST,REL,BA,M,KHA                                    2\n",
       "COVER,VEST,SMALL ARMS PROTECTIVE BODY ARMOR          1\n",
       "BALLISTIC SHIELDS                                    1\n",
       "Name: Quantity, dtype: int64"
      ]
     },
     "execution_count": 18,
     "metadata": {},
     "output_type": "execute_result"
    }
   ],
   "source": [
    "body_armor.groupby([\"Item Name\"])[\"Quantity\"].sum().sort_values(ascending=False)"
   ]
  },
  {
   "cell_type": "code",
   "execution_count": 19,
   "metadata": {},
   "outputs": [
    {
     "data": {
      "text/html": [
       "<div>\n",
       "<style scoped>\n",
       "    .dataframe tbody tr th:only-of-type {\n",
       "        vertical-align: middle;\n",
       "    }\n",
       "\n",
       "    .dataframe tbody tr th {\n",
       "        vertical-align: top;\n",
       "    }\n",
       "\n",
       "    .dataframe thead th {\n",
       "        text-align: right;\n",
       "    }\n",
       "</style>\n",
       "<table border=\"1\" class=\"dataframe\">\n",
       "  <thead>\n",
       "    <tr style=\"text-align: right;\">\n",
       "      <th></th>\n",
       "      <th>State</th>\n",
       "      <th>Station Name (LEA)</th>\n",
       "      <th>NSN</th>\n",
       "      <th>Item Name</th>\n",
       "      <th>Quantity</th>\n",
       "      <th>UI</th>\n",
       "      <th>Acquisition Value</th>\n",
       "      <th>DEMIL Code</th>\n",
       "      <th>DEMIL IC</th>\n",
       "      <th>Ship Date</th>\n",
       "      <th>Station Type</th>\n",
       "      <th>federal_supply_class</th>\n",
       "      <th>year</th>\n",
       "    </tr>\n",
       "  </thead>\n",
       "  <tbody>\n",
       "    <tr>\n",
       "      <th>131787</th>\n",
       "      <td>VA</td>\n",
       "      <td>LURAY POLICE DEPT</td>\n",
       "      <td>8470-01-386-2970</td>\n",
       "      <td>BALLISTIC SHIELDS</td>\n",
       "      <td>1</td>\n",
       "      <td>Each</td>\n",
       "      <td>1116.59</td>\n",
       "      <td>D</td>\n",
       "      <td>1.0</td>\n",
       "      <td>2016-11-16</td>\n",
       "      <td>State</td>\n",
       "      <td>8470</td>\n",
       "      <td>2016</td>\n",
       "    </tr>\n",
       "  </tbody>\n",
       "</table>\n",
       "</div>"
      ],
      "text/plain": [
       "       State Station Name (LEA)               NSN          Item Name  \\\n",
       "131787    VA  LURAY POLICE DEPT  8470-01-386-2970  BALLISTIC SHIELDS   \n",
       "\n",
       "        Quantity    UI  Acquisition Value DEMIL Code  DEMIL IC  Ship Date  \\\n",
       "131787         1  Each            1116.59          D       1.0 2016-11-16   \n",
       "\n",
       "       Station Type federal_supply_class  year  \n",
       "131787        State                 8470  2016  "
      ]
     },
     "execution_count": 19,
     "metadata": {},
     "output_type": "execute_result"
    }
   ],
   "source": [
    "body_armor.loc[\n",
    "    lambda x: x[\"Item Name\"] == \"BALLISTIC SHIELDS\"\n",
    "]"
   ]
  },
  {
   "cell_type": "code",
   "execution_count": 20,
   "metadata": {},
   "outputs": [
    {
     "data": {
      "text/plain": [
       "Station Name (LEA)                 State\n",
       "MILWAUKEE POLICE DEPT              WI       254\n",
       "BLOUNT COUNTY SHERIFFS OFFICE      TN        94\n",
       "LAFAYETTE POLICE DEPARTMENT        IN        92\n",
       "HOLMDEL TWP POLICE DEPT            NJ        46\n",
       "WEATHERLY POLICE DEPT              PA        45\n",
       "HOPE MILLS POLICE DEPT             NC        44\n",
       "GREEN BAY POLICE DEPT              WI        27\n",
       "BUENA VISTA COUNTY SHERIFF OFFICE  IA        22\n",
       "SHERBURNE COUNTY SHERIFF'S OFFICE  MN        22\n",
       "CHESTER POLICE DEPT                PA        20\n",
       "Name: Quantity, dtype: int64"
      ]
     },
     "execution_count": 20,
     "metadata": {},
     "output_type": "execute_result"
    }
   ],
   "source": [
    "body_armor.groupby([\"Station Name (LEA)\", \"State\"])[\"Quantity\"].sum().sort_values(ascending=False).head(10)"
   ]
  },
  {
   "cell_type": "code",
   "execution_count": 21,
   "metadata": {},
   "outputs": [
    {
     "data": {
      "text/plain": [
       "Item Name\n",
       "FACESHIELD,MILITARY,RIOT CONTROL    85\n",
       "FACESHIELD,RIOT CONTROL             59\n",
       "RIOT CONTROL SHIELD                 63\n",
       "SUIT,RIOT TRAINING                   1\n",
       "SUIT,RIOT TRAINING                   4\n",
       "Name: Quantity, dtype: int64"
      ]
     },
     "execution_count": 21,
     "metadata": {},
     "output_type": "execute_result"
    }
   ],
   "source": [
    "post_ferguson[\n",
    "    lambda x: x[\"Item Name\"].str.contains(\"RIOT\")\n",
    "].groupby(\"Item Name\")[\"Quantity\"].sum()"
   ]
  },
  {
   "cell_type": "code",
   "execution_count": 22,
   "metadata": {},
   "outputs": [
    {
     "data": {
      "text/plain": [
       "Item Name\n",
       "FACESHIELD,MILITARY,RIOT CONTROL    85\n",
       "FACESHIELD,RIOT CONTROL             59\n",
       "RIOT CONTROL SHIELD                 63\n",
       "SUIT,RIOT TRAINING                   1\n",
       "SUIT,RIOT TRAINING                   4\n",
       "Name: Quantity, dtype: int64"
      ]
     },
     "execution_count": 22,
     "metadata": {},
     "output_type": "execute_result"
    }
   ],
   "source": [
    "post_ferguson[\n",
    "    # riot gear can also be classified as Clothing, Special Purpose\n",
    "    # or Safety and Rescue Equipment this captures those additional pieces\n",
    "    lambda x: x[\"Item Name\"].str.contains(\"RIOT\")\n",
    "].groupby(\"Item Name\")[\"Quantity\"].sum()"
   ]
  },
  {
   "cell_type": "markdown",
   "metadata": {},
   "source": [
    "### Rifles"
   ]
  },
  {
   "cell_type": "code",
   "execution_count": 23,
   "metadata": {},
   "outputs": [],
   "source": [
    "rifles = post_ferguson[\n",
    "    lambda x: x[\"Item Name\"].isin([\"RIFLE,5.56 MILLIMETER\", \"RIFLE,7.62 MILLIMETER\"])\n",
    "]"
   ]
  },
  {
   "cell_type": "code",
   "execution_count": 24,
   "metadata": {},
   "outputs": [
    {
     "data": {
      "text/plain": [
       "6508"
      ]
     },
     "execution_count": 24,
     "metadata": {},
     "output_type": "execute_result"
    }
   ],
   "source": [
    "rifles[\"Quantity\"].sum()"
   ]
  },
  {
   "cell_type": "code",
   "execution_count": 25,
   "metadata": {},
   "outputs": [
    {
     "data": {
      "text/plain": [
       "year\n",
       "2014    4534\n",
       "2015     786\n",
       "2017    1187\n",
       "2018       1\n",
       "Name: Quantity, dtype: int64"
      ]
     },
     "execution_count": 25,
     "metadata": {},
     "output_type": "execute_result"
    }
   ],
   "source": [
    "rifles.groupby(\"year\")[\"Quantity\"].sum()"
   ]
  },
  {
   "cell_type": "code",
   "execution_count": 26,
   "metadata": {},
   "outputs": [
    {
     "data": {
      "image/png": "[encoded data removed]",
      "text/plain": [
       "<Figure size 432x288 with 1 Axes>"
      ]
     },
     "metadata": {
      "needs_background": "light"
     },
     "output_type": "display_data"
    }
   ],
   "source": [
    "rifles.groupby(\"year\")[\"Quantity\"].sum().plot(kind=\"bar\")\n",
    "pass"
   ]
  },
  {
   "cell_type": "markdown",
   "metadata": {},
   "source": [
    "### Aircraft"
   ]
  },
  {
   "cell_type": "code",
   "execution_count": 27,
   "metadata": {},
   "outputs": [],
   "source": [
    "aircraft = post_ferguson.loc[\n",
    "    lambda x: x[\"Item Name\"].isin([\n",
    "        \"HELICOPTER,OBSERVATION\",\n",
    "        \"HELICOPTER,UTILITY\",\n",
    "        \"AIRCRAFT, FIXED WING\",\n",
    "        \"AIRPLANE,CARGO-TRANSPORT\",\n",
    "        \"HELICOPTER,MEDEVAC\"\n",
    "    ])\n",
    "]"
   ]
  },
  {
   "cell_type": "code",
   "execution_count": 28,
   "metadata": {},
   "outputs": [
    {
     "data": {
      "text/plain": [
       "76"
      ]
     },
     "execution_count": 28,
     "metadata": {},
     "output_type": "execute_result"
    }
   ],
   "source": [
    "aircraft[\"Quantity\"].sum()"
   ]
  },
  {
   "cell_type": "code",
   "execution_count": 29,
   "metadata": {},
   "outputs": [
    {
     "data": {
      "text/plain": [
       "year\n",
       "2014    18\n",
       "2015     5\n",
       "2016    10\n",
       "2017    18\n",
       "2018    25\n",
       "Name: Quantity, dtype: int64"
      ]
     },
     "execution_count": 29,
     "metadata": {},
     "output_type": "execute_result"
    }
   ],
   "source": [
    "aircraft.groupby(\"year\")[\"Quantity\"].sum()"
   ]
  },
  {
   "cell_type": "code",
   "execution_count": 30,
   "metadata": {},
   "outputs": [
    {
     "data": {
      "image/png": "[encoded data removed]",
      "text/plain": [
       "<Figure size 432x288 with 1 Axes>"
      ]
     },
     "metadata": {
      "needs_background": "light"
     },
     "output_type": "display_data"
    }
   ],
   "source": [
    "aircraft.groupby(\"year\")[\"Quantity\"].sum().plot(kind=\"bar\")\n",
    "pass"
   ]
  },
  {
   "cell_type": "code",
   "execution_count": 31,
   "metadata": {},
   "outputs": [
    {
     "data": {
      "text/html": [
       "<div>\n",
       "<style scoped>\n",
       "    .dataframe tbody tr th:only-of-type {\n",
       "        vertical-align: middle;\n",
       "    }\n",
       "\n",
       "    .dataframe tbody tr th {\n",
       "        vertical-align: top;\n",
       "    }\n",
       "\n",
       "    .dataframe thead th {\n",
       "        text-align: right;\n",
       "    }\n",
       "</style>\n",
       "<table border=\"1\" class=\"dataframe\">\n",
       "  <thead>\n",
       "    <tr style=\"text-align: right;\">\n",
       "      <th></th>\n",
       "      <th>State</th>\n",
       "      <th>Station Name (LEA)</th>\n",
       "      <th>NSN</th>\n",
       "      <th>Item Name</th>\n",
       "      <th>Quantity</th>\n",
       "      <th>UI</th>\n",
       "      <th>Acquisition Value</th>\n",
       "      <th>DEMIL Code</th>\n",
       "      <th>DEMIL IC</th>\n",
       "      <th>Ship Date</th>\n",
       "      <th>Station Type</th>\n",
       "      <th>federal_supply_class</th>\n",
       "      <th>year</th>\n",
       "    </tr>\n",
       "  </thead>\n",
       "  <tbody>\n",
       "    <tr>\n",
       "      <th>8873</th>\n",
       "      <td>AZ</td>\n",
       "      <td>ARIZONA DEPT OF PUBLIC SAFETY</td>\n",
       "      <td>1510-DS-FIX-WNGA</td>\n",
       "      <td>AIRCRAFT, FIXED WING</td>\n",
       "      <td>1</td>\n",
       "      <td>Each</td>\n",
       "      <td>17000000.0</td>\n",
       "      <td>C</td>\n",
       "      <td>NaN</td>\n",
       "      <td>2015-12-03 11:37:01.999</td>\n",
       "      <td>State</td>\n",
       "      <td>1510</td>\n",
       "      <td>2015</td>\n",
       "    </tr>\n",
       "    <tr>\n",
       "      <th>8894</th>\n",
       "      <td>AZ</td>\n",
       "      <td>ARIZONA DEPT OF PUBLIC SAFETY</td>\n",
       "      <td>1510-DS-FIX-WNGA</td>\n",
       "      <td>AIRCRAFT, FIXED WING</td>\n",
       "      <td>1</td>\n",
       "      <td>Each</td>\n",
       "      <td>17000000.0</td>\n",
       "      <td>C</td>\n",
       "      <td>NaN</td>\n",
       "      <td>2015-12-03 11:37:01.999</td>\n",
       "      <td>State</td>\n",
       "      <td>1510</td>\n",
       "      <td>2015</td>\n",
       "    </tr>\n",
       "    <tr>\n",
       "      <th>8895</th>\n",
       "      <td>AZ</td>\n",
       "      <td>ARIZONA DEPT OF PUBLIC SAFETY</td>\n",
       "      <td>1510-DS-FIX-WNGA</td>\n",
       "      <td>AIRCRAFT, FIXED WING</td>\n",
       "      <td>1</td>\n",
       "      <td>Each</td>\n",
       "      <td>17000000.0</td>\n",
       "      <td>C</td>\n",
       "      <td>NaN</td>\n",
       "      <td>2015-12-03 11:37:01.999</td>\n",
       "      <td>State</td>\n",
       "      <td>1510</td>\n",
       "      <td>2015</td>\n",
       "    </tr>\n",
       "  </tbody>\n",
       "</table>\n",
       "</div>"
      ],
      "text/plain": [
       "     State             Station Name (LEA)               NSN  \\\n",
       "8873    AZ  ARIZONA DEPT OF PUBLIC SAFETY  1510-DS-FIX-WNGA   \n",
       "8894    AZ  ARIZONA DEPT OF PUBLIC SAFETY  1510-DS-FIX-WNGA   \n",
       "8895    AZ  ARIZONA DEPT OF PUBLIC SAFETY  1510-DS-FIX-WNGA   \n",
       "\n",
       "                 Item Name  Quantity    UI  Acquisition Value DEMIL Code  \\\n",
       "8873  AIRCRAFT, FIXED WING         1  Each         17000000.0          C   \n",
       "8894  AIRCRAFT, FIXED WING         1  Each         17000000.0          C   \n",
       "8895  AIRCRAFT, FIXED WING         1  Each         17000000.0          C   \n",
       "\n",
       "      DEMIL IC               Ship Date Station Type federal_supply_class  year  \n",
       "8873       NaN 2015-12-03 11:37:01.999        State                 1510  2015  \n",
       "8894       NaN 2015-12-03 11:37:01.999        State                 1510  2015  \n",
       "8895       NaN 2015-12-03 11:37:01.999        State                 1510  2015  "
      ]
     },
     "execution_count": 31,
     "metadata": {},
     "output_type": "execute_result"
    }
   ],
   "source": [
    "aircraft[\n",
    "    lambda x: x[\"Station Name (LEA)\"] == \"ARIZONA DEPT OF PUBLIC SAFETY\"\n",
    "]"
   ]
  },
  {
   "cell_type": "markdown",
   "metadata": {},
   "source": [
    "### Bayonets"
   ]
  },
  {
   "cell_type": "code",
   "execution_count": 32,
   "metadata": {},
   "outputs": [
    {
     "data": {
      "text/plain": [
       "167"
      ]
     },
     "execution_count": 32,
     "metadata": {},
     "output_type": "execute_result"
    }
   ],
   "source": [
    "post_ferguson.loc[\n",
    "    lambda x: x[\"Item Name\"].str.contains(\"BAYONET\")\n",
    "][\"Quantity\"].sum()"
   ]
  },
  {
   "cell_type": "markdown",
   "metadata": {},
   "source": [
    "---\n",
    "\n",
    "---\n",
    "\n",
    "---"
   ]
  }
 ],
 "metadata": {
  "kernelspec": {
   "display_name": "Python 3",
   "language": "python",
   "name": "python3"
  },
  "language_info": {
   "codemirror_mode": {
    "name": "ipython",
    "version": 3
   },
   "file_extension": ".py",
   "mimetype": "text/x-python",
   "name": "python",
   "nbconvert_exporter": "python",
   "pygments_lexer": "ipython3",
   "version": "3.8.1"
  }
 },
 "nbformat": 4,
 "nbformat_minor": 4
}
